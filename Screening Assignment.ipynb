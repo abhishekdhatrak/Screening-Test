{
 "cells": [
  {
   "cell_type": "code",
   "execution_count": 155,
   "id": "7c681f04",
   "metadata": {},
   "outputs": [],
   "source": [
    "def f1():\n",
    "    f = open('G:\\\\Screeing Assignment\\\\screening test1.txt', 'r')\n",
    "    data = f.read()\n",
    "    print(data)\n",
    "    data = data.replace('placement', 'screening')\n",
    "    print(data)\n",
    "    f = open('G:\\\\Screeing Assignment\\\\screening test1.txt', 'w+')\n",
    "    f.write(data)\n",
    "    f.close()"
   ]
  },
  {
   "cell_type": "code",
   "execution_count": 156,
   "id": "3a068210",
   "metadata": {},
   "outputs": [
    {
     "name": "stdout",
     "output_type": "stream",
     "text": [
      "This is a placement assignment\n",
      "This is a screening assignment\n"
     ]
    }
   ],
   "source": [
    "f1()"
   ]
  },
  {
   "cell_type": "code",
   "execution_count": null,
   "id": "704c8271",
   "metadata": {},
   "outputs": [],
   "source": []
  },
  {
   "cell_type": "code",
   "execution_count": null,
   "id": "e323ef32",
   "metadata": {},
   "outputs": [],
   "source": []
  },
  {
   "cell_type": "code",
   "execution_count": null,
   "id": "bbea0f0c",
   "metadata": {},
   "outputs": [],
   "source": []
  },
  {
   "cell_type": "code",
   "execution_count": null,
   "id": "44e625af",
   "metadata": {},
   "outputs": [],
   "source": []
  },
  {
   "cell_type": "code",
   "execution_count": null,
   "id": "efe7cadc",
   "metadata": {},
   "outputs": [],
   "source": []
  },
  {
   "cell_type": "code",
   "execution_count": 154,
   "id": "d1512c3d",
   "metadata": {},
   "outputs": [
    {
     "name": "stdout",
     "output_type": "stream",
     "text": [
      "This is a screening assignment\n",
      "This is a screening assignment\n"
     ]
    }
   ],
   "source": [
    "from abc import ABC, abstractmethod\n",
    " \n",
    "class screen_assignment(ABC):\n",
    " \n",
    "    @abstractmethod\n",
    "    def f1(self):\n",
    "        pass\n",
    " \n",
    "class execute_assignment(screen_assignment):\n",
    " \n",
    "    # overriding abstract method\n",
    "    def f1(self):\n",
    "        f = open('G:\\\\Screeing Assignment\\\\screening test1.txt', 'r')\n",
    "        data = f.read()\n",
    "        print(data)\n",
    "        data = data.replace('placement', 'screening')\n",
    "        print(data)\n",
    "        f = open('G:\\\\Screeing Assignment\\\\screening test1.txt', 'w+')\n",
    "        f.write(data)\n",
    "        f.close()\n",
    "        \n",
    "f = execute_assignment()\n",
    "f.f1()"
   ]
  },
  {
   "cell_type": "code",
   "execution_count": null,
   "id": "76fa8a89",
   "metadata": {},
   "outputs": [],
   "source": []
  }
 ],
 "metadata": {
  "kernelspec": {
   "display_name": "Python 3",
   "language": "python",
   "name": "python3"
  },
  "language_info": {
   "codemirror_mode": {
    "name": "ipython",
    "version": 3
   },
   "file_extension": ".py",
   "mimetype": "text/x-python",
   "name": "python",
   "nbconvert_exporter": "python",
   "pygments_lexer": "ipython3",
   "version": "3.8.8"
  }
 },
 "nbformat": 4,
 "nbformat_minor": 5
}
